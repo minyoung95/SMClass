{
 "cells": [
  {
   "cell_type": "code",
   "execution_count": 1,
   "metadata": {},
   "outputs": [],
   "source": [
    "import pandas as pd\n",
    "import numpy as np\n",
    "import matplotlib.pyplot as plt\n",
    "# 한글 설정\n",
    "import matplotlib\n",
    "matplotlib.rcParams['font.family'] = 'Malgun Gothic' # Window용\n",
    "# matplotlib.rcParams['font.family'] = 'AppleGothic' # Mac 용\n",
    "matplotlib.rcParams['font.size'] = 15 # 글자크기\n",
    "matplotlib.rcParams['axes.unicode_minus'] = False # 그래프 마이너스까지 나타낼 수 있게"
   ]
  },
  {
   "cell_type": "code",
   "execution_count": 2,
   "metadata": {},
   "outputs": [],
   "source": [
    "df = pd.read_excel('score.xlsx',index_col='지원번호')"
   ]
  },
  {
   "cell_type": "code",
   "execution_count": 3,
   "metadata": {},
   "outputs": [],
   "source": [
    "def cm_func(x):\n",
    "    return str(x)+'cm'"
   ]
  },
  {
   "cell_type": "code",
   "execution_count": null,
   "metadata": {},
   "outputs": [
    {
     "data": {
      "text/plain": [
       "지원번호\n",
       "1번    197cm\n",
       "2번    184cm\n",
       "3번    168cm\n",
       "4번    187cm\n",
       "5번    188cm\n",
       "6번    202cm\n",
       "7번    188cm\n",
       "8번    190cm\n",
       "Name: 키, dtype: object"
      ]
     },
     "execution_count": 4,
     "metadata": {},
     "output_type": "execute_result"
    }
   ],
   "source": [
    "## df['키'](배열타입) : 모든 것을 함수적용 - apply \n",
    "df['키'] = df['키'].apply(cm_func)\n",
    "df['키']"
   ]
  },
  {
   "cell_type": "code",
   "execution_count": 5,
   "metadata": {},
   "outputs": [
    {
     "name": "stdout",
     "output_type": "stream",
     "text": [
      "90\n",
      "50\n",
      "80\n",
      "50\n",
      "50\n",
      "80\n",
      "55\n",
      "100\n"
     ]
    },
    {
     "name": "stderr",
     "output_type": "stream",
     "text": [
      "C:\\Users\\KOSMO\\AppData\\Local\\Temp\\ipykernel_12512\\612774479.py:8: FutureWarning: Series.__getitem__ treating keys as positions is deprecated. In a future version, integer keys will always be treated as labels (consistent with DataFrame behavior). To access a value by position, use `ser.iloc[pos]`\n",
      "  print(k_func(df['국어'][i])) # df['국어']의 단일값이므로 apply X\n"
     ]
    }
   ],
   "source": [
    "## 50점 아래 있는 값 : 50으로 리턴해서 출력\n",
    "def k_func(x):\n",
    "    if x>=50: return x\n",
    "    return 50\n",
    "\n",
    "# int,str,float 같은 단일값은 apply X, 함수명(데이터)로 호출\n",
    "for i in range(8):\n",
    "    print(k_func(df['국어'][i])) # df['국어']의 단일값이므로 apply X"
   ]
  }
 ],
 "metadata": {
  "kernelspec": {
   "display_name": "Python 3",
   "language": "python",
   "name": "python3"
  },
  "language_info": {
   "codemirror_mode": {
    "name": "ipython",
    "version": 3
   },
   "file_extension": ".py",
   "mimetype": "text/x-python",
   "name": "python",
   "nbconvert_exporter": "python",
   "pygments_lexer": "ipython3",
   "version": "3.13.0"
  }
 },
 "nbformat": 4,
 "nbformat_minor": 2
}
